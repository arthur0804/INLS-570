{
 "cells": [
  {
   "cell_type": "code",
   "execution_count": 1,
   "metadata": {},
   "outputs": [
    {
     "name": "stdout",
     "output_type": "stream",
     "text": [
      "Please enter the number of apples you wish to purchase:10\n",
      "Your order of 10 apples will cost $ 5.0 \n"
     ]
    }
   ],
   "source": [
    "quantity = input(\"Please enter the number of apples you wish to purchase:\")\n",
    "\n",
    "int_quantity = int(quantity)\n",
    "\n",
    "if int_quantity < 10:\n",
    "    cost = 0.75 * int_quantity\n",
    "# elif int_quantity >=10 and int_quantity < 50:\n",
    "else:\n",
    "    if int_quantity <= 50:\n",
    "        cost = 0.50 * int_quantity\n",
    "    else:\n",
    "        cost = 0.50 * int_quantity * 0.9\n",
    "    \n",
    "print(\"Your order of {} apples will cost $ {} \".format(quantity, cost))"
   ]
  },
  {
   "cell_type": "code",
   "execution_count": null,
   "metadata": {},
   "outputs": [],
   "source": []
  }
 ],
 "metadata": {
  "kernelspec": {
   "display_name": "Python 3",
   "language": "python",
   "name": "python3"
  },
  "language_info": {
   "codemirror_mode": {
    "name": "ipython",
    "version": 3
   },
   "file_extension": ".py",
   "mimetype": "text/x-python",
   "name": "python",
   "nbconvert_exporter": "python",
   "pygments_lexer": "ipython3",
   "version": "3.7.0"
  }
 },
 "nbformat": 4,
 "nbformat_minor": 2
}
