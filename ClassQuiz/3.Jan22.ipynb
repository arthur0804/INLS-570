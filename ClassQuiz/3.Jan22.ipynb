{
 "cells": [
  {
   "cell_type": "code",
   "execution_count": 1,
   "metadata": {},
   "outputs": [],
   "source": [
    "a = [\"unc\", \"duke\", \"ncstate\"]\n",
    "b = [\"ncstate\", \"duke\", \"unc\"]\n",
    "c = [\"unc\", \"duke\", \"vt\"]\n",
    "d = [\"unc\", \"unc\", \"unc\"]\n",
    "e = [\"unc\", \"unc\", \"duke\"]\n",
    "f = [\"duke\", \"duke\", \"unc\"]"
   ]
  },
  {
   "cell_type": "code",
   "execution_count": 39,
   "metadata": {},
   "outputs": [],
   "source": [
    "# solution 1\n",
    "def has_same_elements(list1, list2):\n",
    "    if len(list1) != len(list2):\n",
    "        return False\n",
    "    else:\n",
    "        list1.sort()\n",
    "        list2.sort()\n",
    "        flag = True\n",
    "        for x in range(len(list1)):\n",
    "            if list1[x] == list2[x]:\n",
    "                continue\n",
    "            else:\n",
    "                flag = False\n",
    "                break\n",
    "        return flag"
   ]
  },
  {
   "cell_type": "code",
   "execution_count": 56,
   "metadata": {},
   "outputs": [],
   "source": [
    "# solution 2\n",
    "def has_same_elements_2(list1, list2):\n",
    "    if len(list1) != len(list2):\n",
    "        return False\n",
    "    else:\n",
    "        flag = True\n",
    "        for x in list1:\n",
    "            count1 = list1.count(x)\n",
    "            count2 = list2.count(x)\n",
    "            if count1 == count2:\n",
    "                continue\n",
    "            else:\n",
    "                flag = False\n",
    "                break\n",
    "        return flag    "
   ]
  },
  {
   "cell_type": "code",
   "execution_count": 78,
   "metadata": {},
   "outputs": [],
   "source": [
    "# solution 3\n",
    "def has_same_elements_3(list1, list2):\n",
    "    list1.sort()\n",
    "    list2.sort()\n",
    "    return list1 == list2"
   ]
  }
 ],
 "metadata": {
  "kernelspec": {
   "display_name": "Python 3",
   "language": "python",
   "name": "python3"
  },
  "language_info": {
   "codemirror_mode": {
    "name": "ipython",
    "version": 3
   },
   "file_extension": ".py",
   "mimetype": "text/x-python",
   "name": "python",
   "nbconvert_exporter": "python",
   "pygments_lexer": "ipython3",
   "version": "3.7.0"
  }
 },
 "nbformat": 4,
 "nbformat_minor": 2
}
