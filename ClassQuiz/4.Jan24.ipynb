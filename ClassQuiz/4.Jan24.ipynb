{
 "cells": [
  {
   "cell_type": "code",
   "execution_count": 2,
   "metadata": {},
   "outputs": [],
   "source": [
    "swfile = open(\"ExampleData/swshop.txt\",\"r\")"
   ]
  },
  {
   "cell_type": "code",
   "execution_count": 3,
   "metadata": {},
   "outputs": [
    {
     "name": "stdout",
     "output_type": "stream",
     "text": [
      "item number  1\n",
      " name:  Better Blaster\n",
      " description:  a middle-grade blaster\n",
      "\n",
      " price:  200 galactic credits\n",
      "item number  2\n",
      " name:  Droid oil\n",
      " description:  to keep your droids running smoothly\n",
      "\n",
      " price:  5 galactic credits\n",
      "item number  3\n",
      " name:  Blaster\n",
      " description:  a simple blaster\n",
      "\n",
      " price:  100 galactic credits\n",
      "item number  4\n",
      " name:  Map of Tatooine\n",
      " description:  for all your travels\n",
      "\n",
      " price:  10 galactic credits\n",
      "item number  5\n",
      " name:  Jedi cloak\n",
      " description:  look your best this spring (Jedi only)\n",
      "\n",
      " price:  30 galactic credits\n",
      "item number  6\n",
      " name:  Regular cloak\n",
      " description:  look your best this spring\n",
      "\n",
      " price:  10 galactic credits\n",
      "item number  7\n",
      " name:  Map of Hoth\n",
      " description:  navigate the ice with confidence\n",
      " price:  10 galactic credits\n"
     ]
    }
   ],
   "source": [
    "for aline in swfile:\n",
    "    values = aline.split('\\t')\n",
    "    print('item number ', values[0])\n",
    "    print(' name: ', values[1])\n",
    "    print(' description: ', values[3])\n",
    "    print(' price: ', values[2], 'galactic credits')\n",
    "swfile.close()"
   ]
  },
  {
   "cell_type": "code",
   "execution_count": 23,
   "metadata": {},
   "outputs": [
    {
     "name": "stdout",
     "output_type": "stream",
     "text": [
      "nc\n",
      "19\n",
      "['19', '19']\n",
      "1995\n"
     ]
    }
   ],
   "source": [
    "import re\n",
    "\n",
    "a = \"uncle\"\n",
    "\n",
    "b = \"March 19, 1995\"\n",
    "\n",
    "match = re.search(r'nc',a)\n",
    "\n",
    "print (match.group())\n",
    "\n",
    "match = re.search(r'19',b)\n",
    "\n",
    "print (match.group())\n",
    "\n",
    "match = re.findall(r'19',b)\n",
    "\n",
    "print (match)\n",
    "\n",
    "match = re.search(r'19\\d\\d',b)\n",
    "\n",
    "print (match.group())"
   ]
  }
 ],
 "metadata": {
  "kernelspec": {
   "display_name": "Python 3",
   "language": "python",
   "name": "python3"
  },
  "language_info": {
   "codemirror_mode": {
    "name": "ipython",
    "version": 3
   },
   "file_extension": ".py",
   "mimetype": "text/x-python",
   "name": "python",
   "nbconvert_exporter": "python",
   "pygments_lexer": "ipython3",
   "version": "3.7.0"
  }
 },
 "nbformat": 4,
 "nbformat_minor": 2
}
