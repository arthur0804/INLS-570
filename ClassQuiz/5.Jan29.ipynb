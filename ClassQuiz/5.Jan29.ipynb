{
 "cells": [
  {
   "cell_type": "code",
   "execution_count": 1,
   "metadata": {},
   "outputs": [],
   "source": [
    "import re"
   ]
  },
  {
   "cell_type": "code",
   "execution_count": 27,
   "metadata": {},
   "outputs": [
    {
     "name": "stdout",
     "output_type": "stream",
     "text": [
      "(555) 329-3918\n",
      "555-329-4482\n",
      "555.927.1183\n",
      "5558279324\n"
     ]
    }
   ],
   "source": [
    "with open('ExampleData/telephone.txt', 'r') as f:\n",
    "    for line in f:\n",
    "        line = line.strip()\n",
    "        match = re.search(r'[\\(]*[0-9][0-9][0-9][0-9\\.\\-\\)] *[0-9][0-9][0-9][0-9\\.\\-][0-9]+', line)\n",
    "        if match:\n",
    "            print(match.group())"
   ]
  },
  {
   "cell_type": "code",
   "execution_count": 50,
   "metadata": {},
   "outputs": [
    {
     "name": "stdout",
     "output_type": "stream",
     "text": [
      "999876599\n"
     ]
    }
   ],
   "source": [
    "a = \"199987659955\"\n",
    "\n",
    "match = re.search(r'9+.*9+',a)\n",
    "\n",
    "print (match.group())"
   ]
  },
  {
   "cell_type": "code",
   "execution_count": 56,
   "metadata": {},
   "outputs": [
    {
     "name": "stdout",
     "output_type": "stream",
     "text": [
      "1 2   3\n"
     ]
    }
   ],
   "source": [
    "match = re.search(r'\\d\\s*\\d\\s*\\d', 'xx1 2   3xx')\n",
    "\n",
    "print (match.group())"
   ]
  },
  {
   "cell_type": "code",
   "execution_count": 109,
   "metadata": {},
   "outputs": [
    {
     "name": "stdout",
     "output_type": "stream",
     "text": [
      "A765-2781-ZFQ\n"
     ]
    }
   ],
   "source": [
    "# A or B, followed by 3 digits\n",
    "\n",
    "# dash, then four digits\n",
    "\n",
    "# dash, then 3 letters or numbers\n",
    "\n",
    "a = \"A765-2781-ZFQ\"#accept\n",
    "\n",
    "b = \"B923-5743-HP3\"#accept\n",
    "\n",
    "y = \"Z843-1234-YUP\"#reject\n",
    "\n",
    "z = \"A765-8201ZFQ\"#reject\n",
    "\n",
    "match = re.search(r'[AB][0-9]+[\\-][0-9]+[\\-][a-zA-Z0-9][a-zA-Z0-9][a-zA-Z0-9]',a)\n",
    "#match = re.search(r'[AB][0-9]+[\\-][0-9]+[\\-][\\w]+',b)\n",
    "\n",
    "print (match.group())"
   ]
  }
 ],
 "metadata": {
  "kernelspec": {
   "display_name": "Python 3",
   "language": "python",
   "name": "python3"
  },
  "language_info": {
   "codemirror_mode": {
    "name": "ipython",
    "version": 3
   },
   "file_extension": ".py",
   "mimetype": "text/x-python",
   "name": "python",
   "nbconvert_exporter": "python",
   "pygments_lexer": "ipython3",
   "version": "3.7.0"
  }
 },
 "nbformat": 4,
 "nbformat_minor": 2
}
