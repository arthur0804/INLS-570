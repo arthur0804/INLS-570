{
 "cells": [
  {
   "cell_type": "code",
   "execution_count": 9,
   "metadata": {
    "scrolled": false
   },
   "outputs": [
    {
     "name": "stdout",
     "output_type": "stream",
     "text": [
      "gary@ils.unc.edu\n",
      "bergr@email.unc.edu\n",
      "tlcox@email.unc.edu\n",
      "ssylvest@email.unc.edu\n",
      "maggie_hite@unc.edu\n",
      "silsjoey@unc.edu\n",
      "martha_martin@unc.edu\n",
      "michele@email.unc.edu\n",
      "ljbailey@email.unc.edu\n",
      "tjharris@email.unc.edu\n",
      "lhaight@email.unc.edu\n",
      "smparke@email.unc.edu\n",
      "brubaker@unc.edu\n",
      "bnussbau@email.unc.edu\n",
      "dfwhite@unc.edu\n",
      "progya@email.unc.edu\n",
      "kpearl@email.unc.edu\n",
      "stephanie_kretz@unc.edu\n",
      "hansonda@email.unc.edu\n",
      "kamwoods@email.unc.edu\n",
      "vargha@ils.unc.edu\n",
      "kcjones@email.unc.edu\n",
      "mariell@email.unc.edu\n",
      "lindsey.womack@unc.edu\n",
      "shikhay@email.unc.edu\n",
      "cpauls@email.unc.edu\n",
      "Forbes.Susan@epamail.epa.gov\n",
      "holderied.anthony@epa.gov\n",
      "abernethy.taylor@epa.gov\n",
      "vorhies.emily@epa.gov\n",
      "kimber.andre@epa.gov\n",
      "info@ils.unc.edu\n"
     ]
    }
   ],
   "source": [
    "import re\n",
    "email_list = []\n",
    "with open(\"ExampleData/Staff.html\", \"r\") as file:\n",
    "    for line in file:\n",
    "        line = line.strip()\n",
    "        match = re.search(r'[a-zA-Z0-9_.]+[\\@][a-zA-Z0-9_]+[\\.][a-zA-Z0-9_.]+', line)\n",
    "        if (match):\n",
    "            email_list.append(match.group())\n",
    "\n",
    "for email in email_list:\n",
    "    print(email)"
   ]
  }
 ],
 "metadata": {
  "kernelspec": {
   "display_name": "Python 3",
   "language": "python",
   "name": "python3"
  },
  "language_info": {
   "codemirror_mode": {
    "name": "ipython",
    "version": 3
   },
   "file_extension": ".py",
   "mimetype": "text/x-python",
   "name": "python",
   "nbconvert_exporter": "python",
   "pygments_lexer": "ipython3",
   "version": "3.7.0"
  }
 },
 "nbformat": 4,
 "nbformat_minor": 2
}
