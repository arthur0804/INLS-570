{
 "cells": [
  {
   "cell_type": "code",
   "execution_count": 4,
   "metadata": {},
   "outputs": [
    {
     "name": "stdout",
     "output_type": "stream",
     "text": [
      "760 Capra\n",
      "\n",
      "509 Arguello\n",
      "\n",
      "512 Haas\n",
      "\n",
      "523 Capra\n",
      "\n",
      "884 Kelly\n",
      "\n",
      "509 Kelly\n",
      "\n",
      "523 Haas\n",
      "\n",
      "523 Mostafa\n",
      "\n",
      "509 Losee\n"
     ]
    }
   ],
   "source": [
    "with open('ExampleData/courses2.txt', 'r') as f:\n",
    "    for line in f:\n",
    "        print(line)"
   ]
  },
  {
   "cell_type": "code",
   "execution_count": 7,
   "metadata": {},
   "outputs": [],
   "source": [
    "course_dict = {}\n",
    "with open('ExampleData/courses2.txt', 'r') as f:\n",
    "    for line in f:\n",
    "        course_list = [x.strip() for x in line.split()]\n",
    "        course = course_list[0]\n",
    "        instructors = [course_list[1]]\n",
    "        if course_dict.get(course,0) == 0:\n",
    "            course_dict[course] = instructors\n",
    "        else:\n",
    "            course_dict[course].append(instructors[0])"
   ]
  },
  {
   "cell_type": "code",
   "execution_count": 8,
   "metadata": {
    "scrolled": true
   },
   "outputs": [
    {
     "name": "stdout",
     "output_type": "stream",
     "text": [
      "760 ['Capra']\n",
      "509 ['Arguello', 'Kelly', 'Losee']\n",
      "512 ['Haas']\n",
      "523 ['Capra', 'Haas', 'Mostafa']\n",
      "884 ['Kelly']\n"
     ]
    }
   ],
   "source": [
    "for k,v in course_dict.items():\n",
    "    print(k,v)"
   ]
  },
  {
   "cell_type": "code",
   "execution_count": 13,
   "metadata": {},
   "outputs": [],
   "source": [
    "course_dict = {}\n",
    "with open('ExampleData/courses2.txt', 'r') as f:\n",
    "    for line in f:\n",
    "        course_list = [x.strip() for x in line.split()]\n",
    "        course = course_list[0]\n",
    "        instructor = course_list[1]\n",
    "        course_dict.setdefault(course, []).append(instructor)"
   ]
  },
  {
   "cell_type": "code",
   "execution_count": 14,
   "metadata": {
    "scrolled": true
   },
   "outputs": [
    {
     "name": "stdout",
     "output_type": "stream",
     "text": [
      "760 ['Capra']\n",
      "509 ['Arguello', 'Kelly', 'Losee']\n",
      "512 ['Haas']\n",
      "523 ['Capra', 'Haas', 'Mostafa']\n",
      "884 ['Kelly']\n"
     ]
    }
   ],
   "source": [
    "for k,v in course_dict.items():\n",
    "    print(k,v)"
   ]
  },
  {
   "cell_type": "code",
   "execution_count": 16,
   "metadata": {},
   "outputs": [
    {
     "name": "stdout",
     "output_type": "stream",
     "text": [
      "-----The numbers of all courses-----\n",
      "760\n",
      "509\n",
      "512\n",
      "523\n",
      "884\n"
     ]
    }
   ],
   "source": [
    "# 1\n",
    "print(\"-----The numbers of all courses-----\")\n",
    "for k in course_dict.keys():\n",
    "    print(k)"
   ]
  },
  {
   "cell_type": "code",
   "execution_count": 17,
   "metadata": {},
   "outputs": [
    {
     "name": "stdout",
     "output_type": "stream",
     "text": [
      "-----All the instructors names-----\n",
      "['Mostafa', 'Arguello', 'Capra', 'Kelly', 'Haas', 'Losee']\n"
     ]
    }
   ],
   "source": [
    "# 2\n",
    "print(\"-----All the instructors names-----\")\n",
    "instructors = []\n",
    "for v in course_dict.values():\n",
    "    instructors = list(set(instructors) | set(v))\n",
    "print(instructors)"
   ]
  },
  {
   "cell_type": "code",
   "execution_count": 18,
   "metadata": {},
   "outputs": [
    {
     "name": "stdout",
     "output_type": "stream",
     "text": [
      "-----All the instructors who taught 523-----\n",
      "['Capra', 'Haas', 'Mostafa']\n"
     ]
    }
   ],
   "source": [
    "# 3\n",
    "print(\"-----All the instructors who taught 523-----\")\n",
    "print(course_dict['523'])"
   ]
  },
  {
   "cell_type": "code",
   "execution_count": 19,
   "metadata": {},
   "outputs": [
    {
     "name": "stdout",
     "output_type": "stream",
     "text": [
      "-----All the courses taught by Dr. Capra-----\n",
      "760\n",
      "523\n"
     ]
    }
   ],
   "source": [
    "# 4\n",
    "print(\"-----All the courses taught by Dr. Capra-----\")\n",
    "for k, v in course_dict.items():\n",
    "    if 'Capra' in v:\n",
    "        print(k)"
   ]
  }
 ],
 "metadata": {
  "kernelspec": {
   "display_name": "Python 3",
   "language": "python",
   "name": "python3"
  },
  "language_info": {
   "codemirror_mode": {
    "name": "ipython",
    "version": 3
   },
   "file_extension": ".py",
   "mimetype": "text/x-python",
   "name": "python",
   "nbconvert_exporter": "python",
   "pygments_lexer": "ipython3",
   "version": "3.7.0"
  }
 },
 "nbformat": 4,
 "nbformat_minor": 2
}
