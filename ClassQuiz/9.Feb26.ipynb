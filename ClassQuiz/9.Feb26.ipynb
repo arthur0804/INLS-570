{
 "cells": [
  {
   "cell_type": "code",
   "execution_count": 1,
   "metadata": {},
   "outputs": [
    {
     "name": "stdout",
     "output_type": "stream",
     "text": [
      "[('inls523', 4), ('inls760', 3), ('inls509', 2), ('inls582', 1), ('inls512', 1)]\n"
     ]
    }
   ],
   "source": [
    "course = {}\n",
    "with open(\"ExampleData/courses3.txt\", \"r\") as f:\n",
    "    next(f)\n",
    "    for line in f:\n",
    "        records = line.split()\n",
    "        k = records[0]\n",
    "        v = (records[1], records[2])\n",
    "        course.setdefault(k,[]).append(v)\n",
    "\n",
    "# 1) <course, freq>\n",
    "course_freq = {}\n",
    "for k, v in course.items():\n",
    "    course_freq[k] = len(v)\n",
    "\n",
    "\n",
    "sorted_freq = sorted(course_freq.items(), key = lambda x : x[1], reverse= True)\n",
    "print(sorted_freq)"
   ]
  },
  {
   "cell_type": "code",
   "execution_count": 18,
   "metadata": {},
   "outputs": [],
   "source": [
    "# 2) <course, instructor, freq>\n",
    "course_freq2 = {}\n",
    "for k, v in course.items():\n",
    "    instructors = []\n",
    "    # we do not need the semester information\n",
    "    for i in v:\n",
    "        instructors.append(i[0])\n",
    "    for instructor in set(instructors):\n",
    "        course_freq2[(instructor, k)] = instructors.count(instructor)"
   ]
  },
  {
   "cell_type": "code",
   "execution_count": 19,
   "metadata": {},
   "outputs": [
    {
     "data": {
      "text/plain": [
       "{('haas', 'inls523'): 2,\n",
       " ('boone', 'inls523'): 1,\n",
       " ('capra', 'inls523'): 1,\n",
       " ('capra', 'inls760'): 3,\n",
       " ('arguello', 'inls509'): 2,\n",
       " ('haas', 'inls582'): 1,\n",
       " ('haas', 'inls512'): 1}"
      ]
     },
     "execution_count": 19,
     "metadata": {},
     "output_type": "execute_result"
    }
   ],
   "source": [
    "course_freq2"
   ]
  },
  {
   "cell_type": "code",
   "execution_count": 22,
   "metadata": {
    "scrolled": true
   },
   "outputs": [],
   "source": [
    "sorted_freq2 = sorted(course_freq2.items(), key = lambda x : x[1], reverse= True)"
   ]
  },
  {
   "cell_type": "code",
   "execution_count": 23,
   "metadata": {},
   "outputs": [
    {
     "data": {
      "text/plain": [
       "[(('capra', 'inls760'), 3),\n",
       " (('haas', 'inls523'), 2),\n",
       " (('arguello', 'inls509'), 2),\n",
       " (('boone', 'inls523'), 1),\n",
       " (('capra', 'inls523'), 1),\n",
       " (('haas', 'inls582'), 1),\n",
       " (('haas', 'inls512'), 1)]"
      ]
     },
     "execution_count": 23,
     "metadata": {},
     "output_type": "execute_result"
    }
   ],
   "source": [
    "sorted_freq2"
   ]
  },
  {
   "cell_type": "code",
   "execution_count": 47,
   "metadata": {},
   "outputs": [
    {
     "name": "stdout",
     "output_type": "stream",
     "text": [
      "inls760\tcapra\t3\n",
      "inls523\thaas\t2\n",
      "inls509\targuello\t2\n",
      "inls523\tboone\t1\n",
      "inls523\tcapra\t1\n",
      "inls582\thaas\t1\n",
      "inls512\thaas\t1\n"
     ]
    }
   ],
   "source": [
    "for i in range(0,len(sorted_freq2)):\n",
    "    print(\"{}\\t{}\\t{}\".format(sorted_freq2[i][0][1], sorted_freq2[i][0][0],\n",
    "                              sorted_freq2[i][1]))"
   ]
  }
 ],
 "metadata": {
  "kernelspec": {
   "display_name": "Python 3",
   "language": "python",
   "name": "python3"
  },
  "language_info": {
   "codemirror_mode": {
    "name": "ipython",
    "version": 3
   },
   "file_extension": ".py",
   "mimetype": "text/x-python",
   "name": "python",
   "nbconvert_exporter": "python",
   "pygments_lexer": "ipython3",
   "version": "3.7.2"
  }
 },
 "nbformat": 4,
 "nbformat_minor": 2
}
